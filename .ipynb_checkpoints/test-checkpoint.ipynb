{
 "cells": [
  {
   "cell_type": "code",
   "execution_count": 3,
   "metadata": {},
   "outputs": [
    {
     "name": "stdout",
     "output_type": "stream",
     "text": [
      "Training samples: 52500\n",
      "Test samples: 22500\n"
     ]
    }
   ],
   "source": [
    "import os\n",
    "from sklearn.model_selection import train_test_split\n",
    "\n",
    "# Set the path to the dataset folder\n",
    "dataset_path = 'archive\\Rice_Image_Dataset'  # Update with your dataset path\n",
    "\n",
    "# Get the list of rice types (subfolders)\n",
    "rice_types = os.listdir(dataset_path)\n",
    "\n",
    "# Initialize lists to store images and labels\n",
    "images = []\n",
    "labels = []\n",
    "\n",
    "# Iterate through each rice type\n",
    "for rice_type in rice_types:\n",
    "    rice_type_path = os.path.join(dataset_path, rice_type)\n",
    "    # Iterate through each image in the rice type folder\n",
    "    for image_file in os.listdir(rice_type_path):\n",
    "        image_path = os.path.join(rice_type_path, image_file)\n",
    "        # Load the image and add it to the images list\n",
    "        images.append(image_path)\n",
    "        # Add the label (rice type) to the labels list\n",
    "        labels.append(rice_type)\n",
    "\n",
    "# Split the dataset into training and test sets\n",
    "train_images, test_images, train_labels, test_labels = train_test_split(images, labels, test_size=0.3, random_state=42)\n",
    "\n",
    "# Print the number of samples in each set\n",
    "print('Training samples:', len(train_images))\n",
    "print('Test samples:', len(test_images))\n"
   ]
  },
  {
   "cell_type": "code",
   "execution_count": null,
   "metadata": {},
   "outputs": [],
   "source": [
    "import os\n",
    "import numpy as np\n",
    "from tensorflow.keras.preprocessing.image import load_img, img_to_array\n",
    "from tensorflow.keras.models import Sequential\n",
    "from tensorflow.keras.layers import Conv2D, MaxPooling2D, Flatten, Dense, Dropout\n",
    "from tensorflow.keras.optimizers import SGD\n",
    "from sklearn.preprocessing import LabelEncoder, OneHotEncoder\n",
    "from sklearn.metrics import classification_report\n",
    "\n",
    "# Set the path to the dataset folder\n",
    "dataset_path = 'archive\\Rice_Image_Dataset'  # Update with your dataset path\n",
    "\n",
    "# Get the list of rice types (subfolders)\n",
    "rice_types = os.listdir(dataset_path)\n",
    "\n",
    "# Initialize lists to store images and labels\n",
    "images = []\n",
    "labels = []\n",
    "\n",
    "# Iterate through each rice type\n",
    "for rice_type in rice_types:\n",
    "    rice_type_path = os.path.join(dataset_path, rice_type)\n",
    "    # Iterate through each image in the rice type folder\n",
    "    for image_file in os.listdir(rice_type_path):\n",
    "        image_path = os.path.join(rice_type_path, image_file)\n",
    "        # Load the image and add it to the images list\n",
    "        image = load_img(image_path, target_size=(224, 224))\n",
    "        image = img_to_array(image)\n",
    "        images.append(image)\n",
    "        # Add the label (rice type) to the labels list\n",
    "        labels.append(rice_type)\n",
    "\n",
    "# Convert the images and labels to numpy arrays\n",
    "images = np.array(images, dtype='float32')\n",
    "labels = np.array(labels)\n",
    "\n",
    "# Perform one-hot encoding on the labels\n",
    "label_encoder = LabelEncoder()\n",
    "integer_encoded = label_encoder.fit_transform(labels)\n",
    "onehot_encoder = OneHotEncoder(sparse=False)\n",
    "integer_encoded = integer_encoded.reshape(len(integer_encoded), 1)\n",
    "onehot_encoded = onehot_encoder.fit_transform(integer_encoded)\n",
    "\n",
    "# Split the dataset into training and test sets\n",
    "train_images, test_images, train_labels, test_labels = train_test_split(images, onehot_encoded, test_size=0.3, random_state=42)\n",
    "\n",
    "print('Training samples:', len(train_images))\n",
    "print('Test samples:', len(test_images))"
   ]
  },
  {
   "cell_type": "code",
   "execution_count": null,
   "metadata": {},
   "outputs": [],
   "source": []
  }
 ],
 "metadata": {
  "kernelspec": {
   "display_name": "Python 3 (ipykernel)",
   "language": "python",
   "name": "python3"
  },
  "language_info": {
   "codemirror_mode": {
    "name": "ipython",
    "version": 3
   },
   "file_extension": ".py",
   "mimetype": "text/x-python",
   "name": "python",
   "nbconvert_exporter": "python",
   "pygments_lexer": "ipython3",
   "version": "3.9.12"
  },
  "vscode": {
   "interpreter": {
    "hash": "5238573367df39f7286bb46f9ff5f08f63a01a80960060ce41e3c79b190280fa"
   }
  }
 },
 "nbformat": 4,
 "nbformat_minor": 2
}
